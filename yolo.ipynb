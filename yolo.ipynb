{
 "cells": [
  {
   "cell_type": "code",
   "execution_count": null,
   "metadata": {},
   "outputs": [],
   "source": [
    "import tensorflow as tf\n",
    "from tensorflow.keras.datasets import cifar100\n",
    "from tensorflow.keras.utils import to_categorical\n",
    "import keras"
   ]
  },
  {
   "cell_type": "code",
   "execution_count": null,
   "metadata": {},
   "outputs": [],
   "source": [
    "# GPU 장치 목록 확인\n",
    "gpus = tf.config.list_physical_devices('GPU')\n",
    "if gpus:\n",
    "    print(\"TensorFlow는 GPU를 사용할 수 있습니다.\")\n",
    "    for gpu in gpus:\n",
    "        print(f\"사용 가능한 GPU: {gpu}\")\n",
    "\n",
    "    # gpus = tf.config.experimental.list_physical_devices(device_type='GPU')\n",
    "    # print(gpus)\n",
    "    # if gpus:\n",
    "    try:\n",
    "        tf.config.set_visible_devices(gpus[0], 'GPU')\n",
    "    except RuntimeError as e:\n",
    "        print(e)\n",
    "else:\n",
    "    print(\"TensorFlow는 GPU를 사용할 수 없습니다.\")"
   ]
  },
  {
   "cell_type": "code",
   "execution_count": null,
   "metadata": {},
   "outputs": [],
   "source": [
    "# EfficientNetB0 모델 로드 (ImageNet으로 사전 훈련된 가중치 사용)\n",
    "model = keras.applications.EfficientNetB1(weights='imagenet', include_top=True, input_shape=(224, 224, 3))\n",
    "\n",
    "# 모델 요약 출력\n",
    "# model.summary()"
   ]
  },
  {
   "cell_type": "code",
   "execution_count": null,
   "metadata": {},
   "outputs": [],
   "source": [
    "import numpy as np\n",
    "from PIL import Image\n",
    "\n",
    "# 이미지 로드 및 전처리\n",
    "def prepare_image(img_path, target_size=(224, 224)):\n",
    "    # 이미지를 열고 리사이즈\n",
    "    img = Image.open(img_path)\n",
    "    img = img.resize(target_size)\n",
    "    \n",
    "    # 이미지를 numpy 배열로 변환하고 차원 추가\n",
    "    img_array = np.array(img)\n",
    "    \n",
    "    # 색상 채널이 3개인지 확인\n",
    "    if img_array.shape[-1] != 3:\n",
    "        img_array = np.stack([img_array] * 3, axis=-1)\n",
    "    \n",
    "    img_array = np.expand_dims(img_array, axis=0)  # 배치 차원 추가\n",
    "    img_array = img_array.astype('float32') / 255.0  # 정규화\n",
    "    return img_array\n",
    "\n",
    "# 예측 함수\n",
    "def predict_image(model, img_path):\n",
    "    img_array = prepare_image(img_path)\n",
    "    predictions = model.predict(img_array)\n",
    "    predicted_class = np.argmax(predictions, axis=1)\n",
    "    return predicted_class[0], predictions\n"
   ]
  },
  {
   "cell_type": "code",
   "execution_count": null,
   "metadata": {},
   "outputs": [],
   "source": [
    "\n",
    "# 예측할 이미지 경로\n",
    "img_path = 'image/horse.png'\n",
    "\n",
    "# 예측 수행\n",
    "predicted_class, predictions = predict_image(model, img_path)"
   ]
  },
  {
   "cell_type": "code",
   "execution_count": null,
   "metadata": {},
   "outputs": [],
   "source": [
    "# ImageNet 클래스 이름 로드\n",
    "decoded_predictions = keras.applications.efficientnet.decode_predictions(predictions, top=5)[0]"
   ]
  },
  {
   "cell_type": "code",
   "execution_count": null,
   "metadata": {},
   "outputs": [],
   "source": [
    "# 특정 클래스 ID의 이름을 출력\n",
    "for i, (imagenet_id, label, score) in enumerate(decoded_predictions):\n",
    "    print(f\"{i + 1}: {label} ({score:.2f})\")"
   ]
  },
  {
   "cell_type": "code",
   "execution_count": null,
   "metadata": {},
   "outputs": [],
   "source": []
  }
 ],
 "metadata": {
  "kernelspec": {
   "display_name": "Python 3",
   "language": "python",
   "name": "python3"
  },
  "language_info": {
   "codemirror_mode": {
    "name": "ipython",
    "version": 3
   },
   "file_extension": ".py",
   "mimetype": "text/x-python",
   "name": "python",
   "nbconvert_exporter": "python",
   "pygments_lexer": "ipython3",
   "version": "3.10.12"
  }
 },
 "nbformat": 4,
 "nbformat_minor": 2
}
