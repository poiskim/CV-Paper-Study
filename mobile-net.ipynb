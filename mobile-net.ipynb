{
 "cells": [
  {
   "cell_type": "code",
   "execution_count": 1,
   "metadata": {},
   "outputs": [
    {
     "name": "stderr",
     "output_type": "stream",
     "text": [
      "2024-08-23 05:30:15.807137: E external/local_xla/xla/stream_executor/cuda/cuda_fft.cc:479] Unable to register cuFFT factory: Attempting to register factory for plugin cuFFT when one has already been registered\n",
      "2024-08-23 05:30:15.817775: E external/local_xla/xla/stream_executor/cuda/cuda_dnn.cc:10575] Unable to register cuDNN factory: Attempting to register factory for plugin cuDNN when one has already been registered\n",
      "2024-08-23 05:30:15.817806: E external/local_xla/xla/stream_executor/cuda/cuda_blas.cc:1442] Unable to register cuBLAS factory: Attempting to register factory for plugin cuBLAS when one has already been registered\n",
      "2024-08-23 05:30:15.826026: I tensorflow/core/platform/cpu_feature_guard.cc:210] This TensorFlow binary is optimized to use available CPU instructions in performance-critical operations.\n",
      "To enable the following instructions: AVX2 FMA, in other operations, rebuild TensorFlow with the appropriate compiler flags.\n",
      "2024-08-23 05:30:16.378062: W tensorflow/compiler/tf2tensorrt/utils/py_utils.cc:38] TF-TRT Warning: Could not find TensorRT\n"
     ]
    }
   ],
   "source": [
    "import tensorflow as tf\n",
    "from tensorflow.keras.datasets import cifar100\n",
    "from tensorflow.keras.utils import to_categorical\n",
    "import keras\n",
    "from tensorflow import keras"
   ]
  },
  {
   "cell_type": "code",
   "execution_count": null,
   "metadata": {},
   "outputs": [],
   "source": [
    "# GPU 장치 목록 확인\n",
    "gpus = tf.config.list_physical_devices('GPU')\n",
    "if gpus:\n",
    "    print(\"TensorFlow는 GPU를 사용할 수 있습니다.\")\n",
    "    for gpu in gpus:\n",
    "        print(f\"사용 가능한 GPU: {gpu}\")\n",
    "\n",
    "    # gpus = tf.config.experimental.list_physical_devices(device_type='GPU')\n",
    "    # print(gpus)\n",
    "    # if gpus:\n",
    "    try:\n",
    "        tf.config.set_visible_devices(gpus[0], 'GPU')\n",
    "    except RuntimeError as e:\n",
    "        print(e)\n",
    "else:\n",
    "    print(\"TensorFlow는 GPU를 사용할 수 없습니다.\")"
   ]
  },
  {
   "cell_type": "code",
   "execution_count": null,
   "metadata": {},
   "outputs": [],
   "source": [
    "# MNIST 데이터셋 로드\n",
    "(x_train, y_train), (x_test, y_test) = cifar100.load_data()"
   ]
  },
  {
   "cell_type": "code",
   "execution_count": null,
   "metadata": {},
   "outputs": [],
   "source": [
    "# 데이터 전처리\n",
    "x_train = x_train.reshape(-1, 32, 32, 3).astype('float32') / 255.0\n",
    "x_test = x_test.reshape(-1, 32, 32, 3).astype('float32') / 255.0\n",
    "y_train = to_categorical(y_train, 100)\n",
    "y_test = to_categorical(y_test, 100)"
   ]
  },
  {
   "cell_type": "code",
   "execution_count": null,
   "metadata": {},
   "outputs": [],
   "source": [
    "def seperate_convolution(X, f, nx, ny, s1, s2):\n",
    "    X = keras.layers.Conv2D(filters=nx, kernel_size=(f, f), strides=(s1, s1), padding='same')(X)\n",
    "    X = keras.layers.BatchNormalization()(X)\n",
    "    X = keras.layers.Activation('relu')(X)\n",
    "    X = keras.layers.Conv2D(filters=ny, kernel_size=(1, 1), strides=(s2, s2), padding='same')(X)\n",
    "    X = keras.layers.BatchNormalization()(X)\n",
    "    X = keras.layers.Activation('relu')(X)\n",
    "    return X"
   ]
  },
  {
   "cell_type": "code",
   "execution_count": null,
   "metadata": {},
   "outputs": [],
   "source": [
    "# inputs = tf.keras.Input(shape=(32, 32, 3)) #imagenet이 아니라 cifar-100이기 때문에 로 값을 더 줄인다고 생각 7x7에 도달하면 그 떄 avg pool 진행\n",
    "\n",
    "# first_conv = keras.layers.Conv2D(filters=32, kernel_size=(3, 3), strides=2, padding='same')(inputs)\n",
    "# first_conv = keras.layers.BatchNormalization()(first_conv)\n",
    "# first_conv = keras.layers.Activation('relu')(first_conv)\n",
    "# sep_conv_16_1 = seperate_convolution(first_conv, 3, 32, 64, 1, 1)\n",
    "# sep_conv_8_1 = seperate_convolution(sep_conv_16_1, 3, 64, 128, 2, 1)\n",
    "# sep_conv_8_2 = seperate_convolution(sep_conv_8_1, 3, 128, 128, 1, 1)\n",
    "# sep_conv_4_1 = seperate_convolution(sep_conv_8_2, 3, 128, 256, 2, 1)\n",
    "# sep_conv_4_2 = seperate_convolution(sep_conv_4_1, 3, 256, 256, 1, 1)\n",
    "# sep_conv_2 = seperate_convolution(sep_conv_4_2, 3, 256, 512, 2, 1)\n",
    "# for i in range(5):\n",
    "#     sep_conv_2 = seperate_convolution(sep_conv_2, 3, 512, 512, 1, 1)\n",
    "# sep_conv_1_1 = seperate_convolution(sep_conv_2, 3, 512, 1024, 2, 1)\n",
    "# sep_conv_1_2 = seperate_convolution(sep_conv_1_1, 3, 1024, 1024, 1, 1)\n",
    "# avg_pool = keras.layers.AveragePooling2D((1, 1), strides=(1, 1), padding='same')(sep_conv_1_2)\n",
    "# avg_pool = keras.layers.Flatten()(avg_pool)\n",
    "# fc = keras.layers.Dense(100, 'softmax')(avg_pool)\n",
    "\n",
    "inputs = tf.keras.Input(shape=(32, 32, 3)) #imagenet이 아니라 cifar-100이기 때문에 로 값을 더 줄인다고 생각 7x7에 도달하면 그 떄 avg pool 진행\n",
    "\n",
    "first_conv = keras.layers.Conv2D(filters=32, kernel_size=(3, 3), strides=2, padding='same')(inputs)\n",
    "first_conv = keras.layers.BatchNormalization()(first_conv)\n",
    "first_conv = keras.layers.Activation('relu')(first_conv)\n",
    "sep_conv_16_1 = seperate_convolution(first_conv, 3, 32, 64, 1, 1)\n",
    "sep_conv_8_1 = seperate_convolution(sep_conv_16_1, 3, 64, 128, 1, 1)\n",
    "sep_conv_8_2 = seperate_convolution(sep_conv_8_1, 3, 128, 128, 1, 1)\n",
    "sep_conv_4_1 = seperate_convolution(sep_conv_8_2, 3, 128, 256, 1, 1)\n",
    "sep_conv_4_2 = seperate_convolution(sep_conv_4_1, 3, 256, 256, 1, 1)\n",
    "sep_conv_2 = seperate_convolution(sep_conv_4_2, 3, 256, 512, 2, 1)\n",
    "for i in range(5):\n",
    "    sep_conv_2 = seperate_convolution(sep_conv_2, 3, 512, 512, 1, 1)\n",
    "sep_conv_1_1 = seperate_convolution(sep_conv_2, 3, 512, 1024, 1, 1)\n",
    "sep_conv_1_2 = seperate_convolution(sep_conv_1_1, 3, 1024, 1024, 1, 1)\n",
    "avg_pool = keras.layers.AveragePooling2D((8, 8), strides=(1, 1), padding='valid')(sep_conv_1_2)\n",
    "avg_pool = keras.layers.Flatten()(avg_pool)\n",
    "fc = keras.layers.Dense(100, 'softmax')(avg_pool)\n",
    "\n"
   ]
  },
  {
   "cell_type": "code",
   "execution_count": null,
   "metadata": {},
   "outputs": [],
   "source": [
    "# 모델 생성\n",
    "model = tf.keras.Model(inputs=inputs, outputs=fc)\n",
    "\n",
    "# 모델 컴파일\n",
    "optimizer = keras.optimizers.RMSprop(learning_rate=0.001)\n",
    "model.compile(optimizer=optimizer, loss='categorical_crossentropy', metrics=['accuracy'])\n",
    "\n",
    "# 모델 요약\n",
    "model.summary()"
   ]
  },
  {
   "cell_type": "code",
   "execution_count": 15,
   "metadata": {},
   "outputs": [
    {
     "name": "stdout",
     "output_type": "stream",
     "text": [
      "\u001b[1m 717/1250\u001b[0m \u001b[32m━━━━━━━━━━━\u001b[0m\u001b[37m━━━━━━━━━\u001b[0m \u001b[1m21s\u001b[0m 41ms/step - accuracy: 0.3389 - loss: 2.5400"
     ]
    }
   ],
   "source": [
    "# 모델 \n",
    "model.fit(x_train, y_train, epochs=30, batch_size=32, validation_split=0.2)"
   ]
  },
  {
   "cell_type": "code",
   "execution_count": null,
   "metadata": {},
   "outputs": [],
   "source": [
    "# 모델 평가\n",
    "test_loss, test_acc = model.evaluate(x_test, y_test)\n",
    "print(f\"Test Loss: {test_loss:.4f}\")\n",
    "print(f\"Test Accuracy: {test_acc:.4f}\")"
   ]
  }
 ],
 "metadata": {
  "kernelspec": {
   "display_name": "Python 3",
   "language": "python",
   "name": "python3"
  },
  "language_info": {
   "codemirror_mode": {
    "name": "ipython",
    "version": 3
   },
   "file_extension": ".py",
   "mimetype": "text/x-python",
   "name": "python",
   "nbconvert_exporter": "python",
   "pygments_lexer": "ipython3",
   "version": "3.10.12"
  }
 },
 "nbformat": 4,
 "nbformat_minor": 2
}
